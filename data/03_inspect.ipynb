{
 "cells": [
  {
   "cell_type": "code",
   "execution_count": 11,
   "metadata": {},
   "outputs": [],
   "source": [
    "import glob\n",
    "import rasterio\n",
    "import rasterio.features\n",
    "import rasterio.warp\n",
    "import matplotlib as mpl\n",
    "import matplotlib.pyplot as plt\n",
    "from mpl_toolkits.axes_grid1 import make_axes_locatable\n",
    "import numpy as np\n",
    "from tqdm import tqdm"
   ]
  },
  {
   "cell_type": "code",
   "execution_count": 9,
   "metadata": {},
   "outputs": [],
   "source": [
    "SWISSIMAGE_PATH = './dataset/base'\n",
    "LULC_PATH = './dataset/lulc'\n",
    "SWISSALTI3D_PATH = './dataset/alti'"
   ]
  },
  {
   "cell_type": "code",
   "execution_count": 7,
   "metadata": {},
   "outputs": [],
   "source": [
    "def get_lulc_cmap(n_classes=17):\n",
    "    cmap = plt.cm.jet\n",
    "    cmaplist = [cmap(i) for i in range(cmap.N)]\n",
    "\n",
    "    bounds = np.linspace(0, n_classes, n_classes+1)\n",
    "    norm = mpl.colors.BoundaryNorm(bounds, cmap.N)\n",
    "\n",
    "    cmap = mpl.colors.LinearSegmentedColormap.from_list('Custom cmap', cmaplist, cmap.N)\n",
    "\n",
    "    return cmap, norm"
   ]
  },
  {
   "cell_type": "code",
   "execution_count": 21,
   "metadata": {},
   "outputs": [],
   "source": [
    "def plot_map(base_map, lulc_tile, alti_tile):\n",
    "    plt.figure(figsize=(10,10))\n",
    "    \n",
    "    plt.subplot(1,3,1)\n",
    "    plt.title('Aerial Image')\n",
    "    ax = plt.gca()\n",
    "    ax.axis('off')\n",
    "    im = ax.imshow(base_map)\n",
    "    divider = make_axes_locatable(ax)\n",
    "    cax = divider.append_axes(\"right\", size=\"5%\", pad=0.1)\n",
    "    cb = plt.colorbar(im, cax=cax)\n",
    "    cb.remove() \n",
    "\n",
    "\n",
    "    cmap, norm = get_lulc_cmap(n_classes=72)\n",
    "\n",
    "    plt.subplot(1,3,2)\n",
    "    plt.title('LU / LC Map')\n",
    "    ax = plt.gca()\n",
    "    ax.axis('off')\n",
    "    im = ax.imshow(lulc_tile, alpha=1, cmap=cmap, norm=norm)\n",
    "    divider = make_axes_locatable(ax)\n",
    "    cax = divider.append_axes(\"right\", size=\"5%\", pad=0.1)\n",
    "    plt.colorbar(im, cax=cax)\n",
    "\n",
    "    plt.subplot(1,3,3)\n",
    "    plt.title('Altitude Map')\n",
    "    ax = plt.gca()\n",
    "    ax.axis('off')\n",
    "    im = ax.imshow(alti_tile, alpha=1)\n",
    "    divider = make_axes_locatable(ax)\n",
    "    cax = divider.append_axes(\"right\", size=\"5%\", pad=0.1)\n",
    "    plt.colorbar(im, cax=cax)\n",
    "\n",
    "    plt.tight_layout()\n",
    "    plt.show()"
   ]
  },
  {
   "cell_type": "code",
   "execution_count": 14,
   "metadata": {},
   "outputs": [],
   "source": [
    "def read_base_map_tile(path):\n",
    "    with rasterio.open(path) as dataset:\n",
    "        tile_bounds = dataset.bounds\n",
    "        r = dataset.read(1)\n",
    "        g = dataset.read(2)\n",
    "        b = dataset.read(3)\n",
    "        rgb_base_image = np.stack((r, g, b), axis=-1)\n",
    "\n",
    "    return tile_bounds, rgb_base_image\n",
    "\n",
    "def read_alti3d_tile_2(east, north):\n",
    "    alit3d_files = glob.glob(f'{SWISSALTI3D_PATH}/swissalti3d_*_{east}-{north}_*.tif')\n",
    "    if len(alit3d_files) != 1:\n",
    "        print('ERROR: ', alit3d_files, east, north)\n",
    "        return np.full((500, 500), -9999)\n",
    "\n",
    "    with rasterio.open(alit3d_files[0]) as dataset:\n",
    "        tile = dataset.read(1)\n",
    "\n",
    "    return tile\n",
    "\n",
    "def read_lulc_tile(east, north):\n",
    "    lulc_tiles = glob.glob(f'{LULC_PATH}/{east}_{north}.npy')\n",
    "    if len(lulc_tiles) != 1:\n",
    "        print('ERROR: ', lulc_tiles, east, north)\n",
    "        return np.full((40, 40), -9999)\n",
    "\n",
    "    return np.load(lulc_tiles[0])"
   ]
  },
  {
   "cell_type": "code",
   "execution_count": null,
   "metadata": {},
   "outputs": [],
   "source": [
    "base_maps = glob.glob(f\"{SWISSIMAGE_PATH}/**.tif\")\n",
    "for base_map_tile_path in tqdm(base_maps[0:10]):\n",
    "    base_map_info = base_map_tile_path.split('_')\n",
    "    coords = base_map_info[2].split('-')\n",
    "    east, north = coords\n",
    "\n",
    "    bounds, base_image = read_base_map_tile(base_map_tile_path)\n",
    "    lulc_tile = read_lulc_tile(east, north)\n",
    "    alti_image = read_alti3d_tile_2(east, north)\n",
    "\n",
    "    plot_map(base_image, lulc_tile, alti_image)"
   ]
  }
 ],
 "metadata": {
  "kernelspec": {
   "display_name": ".venv",
   "language": "python",
   "name": "python3"
  },
  "language_info": {
   "codemirror_mode": {
    "name": "ipython",
    "version": 3
   },
   "file_extension": ".py",
   "mimetype": "text/x-python",
   "name": "python",
   "nbconvert_exporter": "python",
   "pygments_lexer": "ipython3",
   "version": "3.11.9"
  }
 },
 "nbformat": 4,
 "nbformat_minor": 2
}
