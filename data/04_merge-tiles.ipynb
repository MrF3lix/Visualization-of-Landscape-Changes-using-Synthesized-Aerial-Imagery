{
 "cells": [
  {
   "cell_type": "code",
   "execution_count": 3,
   "metadata": {},
   "outputs": [],
   "source": [
    "import glob\n",
    "from rasterio.merge import merge\n",
    "import rasterio\n",
    "import rasterio.features\n",
    "import rasterio.warp\n",
    "from rasterio.windows import from_bounds\n",
    "import matplotlib.pyplot as plt\n",
    "import numpy as np\n",
    "\n"
   ]
  },
  {
   "cell_type": "code",
   "execution_count": 4,
   "metadata": {},
   "outputs": [],
   "source": [
    "SWISSIMAGE_PATH = './dataset/base'\n",
    "LULC_PATH = './dataset/lulc'\n",
    "SWISSALTI3D_PATH = './dataset/alti'\n",
    "\n",
    "OUTPUT_DATASET = './dataset'"
   ]
  },
  {
   "cell_type": "code",
   "execution_count": 5,
   "metadata": {},
   "outputs": [],
   "source": [
    "def read_base_map_tile(east, north):\n",
    "    img_files = glob.glob(f'{SWISSIMAGE_PATH}/swissimage-dop10_*_{east}-{north}_*.tif')\n",
    "    if len(img_files) != 1:\n",
    "        print('ERROR: ', img_files)\n",
    "\n",
    "    with rasterio.open(img_files[0]) as dataset:\n",
    "        tile_bounds = dataset.bounds\n",
    "        r = dataset.read(1)\n",
    "        g = dataset.read(2)\n",
    "        b = dataset.read(3)\n",
    "        rgb_base_image = []\n",
    "        rgb_base_image = np.stack((r, g, b), axis=-1)\n",
    "\n",
    "    return tile_bounds, rgb_base_image\n",
    "\n",
    "def read_alti3d_tile(east, north, tile_bounds):\n",
    "    alit3d_files = glob.glob(f'{SWISSALTI3D_PATH}/swissalti3d_*_{east}-{north}_*.tif')\n",
    "    if len(alit3d_files) != 1:\n",
    "        print('ERROR: ', alit3d_files)\n",
    "\n",
    "    with rasterio.open(alit3d_files[0]) as dataset:\n",
    "        window = from_bounds(tile_bounds.left, tile_bounds.bottom, tile_bounds.right, tile_bounds.top, transform=dataset.transform)\n",
    "        tile = dataset.read(1, window=window)\n",
    "\n",
    "    return tile"
   ]
  },
  {
   "cell_type": "code",
   "execution_count": 6,
   "metadata": {},
   "outputs": [],
   "source": [
    "def get_base_image(east, north):\n",
    "    img_files = glob.glob(f'{SWISSIMAGE_PATH}/swissimage-dop10_*_{east}-{north}_*.tif')\n",
    "    if len(img_files) != 1:\n",
    "        print('ERROR: ', img_files)\n",
    "        return None\n",
    "\n",
    "    file = img_files[0]\n",
    "    src = rasterio.open(file)\n",
    "    return src\n",
    "\n",
    "def get_alti_image(east, north):\n",
    "    img_files =glob.glob(f'{SWISSALTI3D_PATH}/swissalti3d_*_{east}-{north}_*.tif')\n",
    "    if len(img_files) != 1:\n",
    "        print('ERROR: ', img_files)\n",
    "        return None\n",
    "\n",
    "    file = img_files[0]\n",
    "    src = rasterio.open(file)\n",
    "    return src\n",
    "\n",
    "def read_lulc_tile(east, north):\n",
    "    lulc_tiles = glob.glob(f'{LULC_PATH}/{east}_{north}.npy')\n",
    "    if len(lulc_tiles) != 1:\n",
    "        print('ERROR: ', lulc_tiles, east, north)\n",
    "        return np.full((40, 40), -9999)\n",
    "\n",
    "    return np.load(lulc_tiles[0])\n",
    "\n",
    "def get_bounds(east, north):\n",
    "    img_files = glob.glob(f'{SWISSIMAGE_PATH}/swissimage-dop10_*_{east}-{north}_*.tif')\n",
    "    file = img_files[0]\n",
    "    with rasterio.open(file) as dataset:\n",
    "        tile_bounds = dataset.bounds\n",
    "\n",
    "    return tile_bounds\n"
   ]
  },
  {
   "cell_type": "code",
   "execution_count": null,
   "metadata": {},
   "outputs": [],
   "source": [
    "east = 2504\n",
    "north = 1159\n",
    "size = 1\n",
    "\n",
    "base_src_files_to_mosaic = []\n",
    "alti_src_files_to_mosaic = []\n",
    "lulc_tile_src_files_to_mosaic = []\n",
    "for x in range(size):\n",
    "    for y in range(size):\n",
    "        east_l = east + x\n",
    "        north_l = north + y\n",
    "\n",
    "        bounds = get_bounds(east, north)\n",
    "\n",
    "        base_src = get_base_image(east_l, north_l)\n",
    "        alti_src = get_alti_image(east_l, north_l)\n",
    "        lulc_tile = read_lulc_tile(bounds)\n",
    "\n",
    "        if base_src != None:\n",
    "            base_src_files_to_mosaic.append(base_src)\n",
    "        if alti_src != None:\n",
    "            alti_src_files_to_mosaic.append(alti_src)\n",
    "\n",
    "        lulc_tile_src_files_to_mosaic.append(lulc_tile)\n",
    "\n",
    "base_mosaic, base_out_trans = merge(base_src_files_to_mosaic)\n",
    "alti_mosaic, alti_out_trans = merge(alti_src_files_to_mosaic)\n",
    "\n",
    "plt.imsave(f'{OUTPUT_DATASET}/merged/base/{east}_{north}_{size}.png', np.transpose(base_mosaic, (1, 2, 0)))\n",
    "plt.imsave(f'{OUTPUT_DATASET}/merged/alti/{east}_{north}_{size}.png', alti_mosaic[0], cmap='gray')"
   ]
  }
 ],
 "metadata": {
  "kernelspec": {
   "display_name": ".venv",
   "language": "python",
   "name": "python3"
  },
  "language_info": {
   "codemirror_mode": {
    "name": "ipython",
    "version": 3
   },
   "file_extension": ".py",
   "mimetype": "text/x-python",
   "name": "python",
   "nbconvert_exporter": "python",
   "pygments_lexer": "ipython3",
   "version": "3.11.9"
  }
 },
 "nbformat": 4,
 "nbformat_minor": 2
}
