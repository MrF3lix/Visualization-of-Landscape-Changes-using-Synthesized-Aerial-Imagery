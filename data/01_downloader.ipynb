{
 "cells": [
  {
   "cell_type": "code",
   "execution_count": 1,
   "metadata": {},
   "outputs": [],
   "source": [
    "import concurrent.futures\n",
    "import requests\n",
    "import os\n",
    "import pandas as pd\n",
    "from tqdm import tqdm\n"
   ]
  },
  {
   "cell_type": "code",
   "execution_count": 8,
   "metadata": {},
   "outputs": [],
   "source": [
    "SOURCE_SWISSIMAGE = './source/ch.swisstopo.swissimage-dop10-dZ7D5lPH.csv'\n",
    "SOURCE_SWISSIMAGE_SAVE_DIR = './dataset/base'\n",
    "\n",
    "SOURCE_SWISSALTI3D = './source/ch.swisstopo.swissalti3d-IMqs1b4h.csv'\n",
    "SOURCE_SWISSALTI3D_SAVE_DIR = './dataset/alti'"
   ]
  },
  {
   "cell_type": "code",
   "execution_count": 3,
   "metadata": {},
   "outputs": [],
   "source": [
    "df = pd.read_csv(SOURCE_SWISSIMAGE, names=['url'])\n",
    "df_alit = pd.read_csv(SOURCE_SWISSALTI3D, names=['url'])"
   ]
  },
  {
   "cell_type": "code",
   "execution_count": 9,
   "metadata": {},
   "outputs": [],
   "source": [
    "def download_image(url, save_dir):\n",
    "    try:\n",
    "        filename = os.path.join(save_dir, url.split(\"/\")[-1])\n",
    "\n",
    "        if os.path.isfile(filename):\n",
    "            return\n",
    "\n",
    "        response = requests.get(url, stream=True)\n",
    "        if response.status_code == 200:\n",
    "            with open(filename, 'wb') as f:\n",
    "                for chunk in response.iter_content(1024):\n",
    "                    f.write(chunk)\n",
    "        else:\n",
    "            print(f\"Failed to download: {url}, Status Code: {response.status_code}\")\n",
    "    except Exception as e:\n",
    "        print(f\"Error downloading {url}: {e}\")\n",
    "\n",
    "def download_images(urls, save_dir, max_threads=10):\n",
    "    with concurrent.futures.ThreadPoolExecutor(max_workers=max_threads) as executor:\n",
    "        list(tqdm(executor.map(lambda x: download_image(x, save_dir), urls), total=len(urls)))\n",
    "        "
   ]
  },
  {
   "cell_type": "code",
   "execution_count": null,
   "metadata": {},
   "outputs": [],
   "source": [
    "download_images(list(df['url']), SOURCE_SWISSIMAGE_SAVE_DIR, max_threads=10)\n",
    "download_images(list(df_alit['url']), SOURCE_SWISSALTI3D_SAVE_DIR, max_threads=10)"
   ]
  }
 ],
 "metadata": {
  "kernelspec": {
   "display_name": ".venv",
   "language": "python",
   "name": "python3"
  },
  "language_info": {
   "codemirror_mode": {
    "name": "ipython",
    "version": 3
   },
   "file_extension": ".py",
   "mimetype": "text/x-python",
   "name": "python",
   "nbconvert_exporter": "python",
   "pygments_lexer": "ipython3",
   "version": "3.11.9"
  }
 },
 "nbformat": 4,
 "nbformat_minor": 2
}
